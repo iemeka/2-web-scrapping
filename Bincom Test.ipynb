{
 "cells": [
  {
   "cell_type": "code",
   "execution_count": 1,
   "metadata": {},
   "outputs": [],
   "source": [
    "import urllib\n",
    "import os\n",
    "import re\n",
    "import pandas as pd"
   ]
  },
  {
   "cell_type": "code",
   "execution_count": 2,
   "metadata": {},
   "outputs": [],
   "source": [
    "filepath = 'html/python_class_test.html'\n",
    "html_file = urllib.urlopen(filepath).read()"
   ]
  },
  {
   "cell_type": "code",
   "execution_count": 3,
   "metadata": {},
   "outputs": [],
   "source": [
    "data = re.findall('(?<=<td>).*?(?=</td>)', html_file)"
   ]
  },
  {
   "cell_type": "code",
   "execution_count": 4,
   "metadata": {},
   "outputs": [],
   "source": [
    "# removes the elements not ending with 'DAY' and adding it to 'just_color' array\n",
    "def remove_days(data):\n",
    "    just_colors = []\n",
    "    for i in data:\n",
    "        if i[-3: ] != 'DAY':\n",
    "            just_colors.append(i)\n",
    "    return just_colors\n",
    "colors = remove_days(data)"
   ]
  },
  {
   "cell_type": "code",
   "execution_count": 5,
   "metadata": {},
   "outputs": [],
   "source": [
    "# loops through a color-name-text and split them according to a matching pattern \", \"\n",
    "# after splitting a list created. Then i loop through the list adding each elements to a new list \n",
    "# which contains all the colors not in a text like form for a 'list of colors' form\n",
    "def refactor_colors(colors):\n",
    "    refactored_color_list = []\n",
    "    for i in colors:\n",
    "        split_elements = i.split(\", \")\n",
    "        for j in split_elements:\n",
    "            refactored_color_list.append(j)\n",
    "    return refactored_color_list\n",
    "refactor_colors(colors)\n",
    "\n",
    "just_colors = refactor_colors(colors)"
   ]
  },
  {
   "cell_type": "code",
   "execution_count": 6,
   "metadata": {},
   "outputs": [],
   "source": [
    "# created a unique list of colors with out duplicates. Loops through them one after the other and adding them to \n",
    "# a dictionary with value = 0. checking if the name \n",
    "# exist in 'just_colors' - a list of all colors, anytime it finds a match its add one to the value in the dictionary\n",
    "\n",
    "list_len_just_colors = len(just_colors)\n",
    "unique_list = list(set(just_colors))\n",
    "list_len_unique_list = len(unique_list)\n",
    "def count_color(just_colors):\n",
    "    color_dict = {}\n",
    "    for index in range(0, list_len_unique_list):\n",
    "        color_name = unique_list[index]\n",
    "        color_dict[color_name] = 0\n",
    "        for index2 in range(0, list_len_just_colors):\n",
    "            if color_name  == just_colors[index2]:\n",
    "                color_dict[color_name] +=1\n",
    "        \n",
    "                \n",
    "        \n",
    "    return color_dict\n",
    "dictionary_of_colors_with_frequency = count_color(just_colors)"
   ]
  },
  {
   "cell_type": "code",
   "execution_count": 7,
   "metadata": {},
   "outputs": [],
   "source": [
    "# converted the dictonary into a pandas object\n",
    "# in other to calculate mean,variance,median\n",
    "df = pd.DataFrame(dictionary_of_colors_with_frequency, index=[0])"
   ]
  },
  {
   "cell_type": "code",
   "execution_count": 8,
   "metadata": {
    "scrolled": true
   },
   "outputs": [
    {
     "data": {
      "text/html": [
       "<div>\n",
       "<style scoped>\n",
       "    .dataframe tbody tr th:only-of-type {\n",
       "        vertical-align: middle;\n",
       "    }\n",
       "\n",
       "    .dataframe tbody tr th {\n",
       "        vertical-align: top;\n",
       "    }\n",
       "\n",
       "    .dataframe thead th {\n",
       "        text-align: right;\n",
       "    }\n",
       "</style>\n",
       "<table border=\"1\" class=\"dataframe\">\n",
       "  <thead>\n",
       "    <tr style=\"text-align: right;\">\n",
       "      <th></th>\n",
       "      <th>ARSH</th>\n",
       "      <th>BLACK</th>\n",
       "      <th>BLEW</th>\n",
       "      <th>BLUE</th>\n",
       "      <th>BROWN</th>\n",
       "      <th>CREAM</th>\n",
       "      <th>GREEN</th>\n",
       "      <th>GREEN,</th>\n",
       "      <th>ORANGE</th>\n",
       "      <th>PINK</th>\n",
       "      <th>RED</th>\n",
       "      <th>WHITE</th>\n",
       "      <th>YELLOW</th>\n",
       "    </tr>\n",
       "  </thead>\n",
       "  <tbody>\n",
       "    <tr>\n",
       "      <th>0</th>\n",
       "      <td>1</td>\n",
       "      <td>1</td>\n",
       "      <td>1</td>\n",
       "      <td>30</td>\n",
       "      <td>6</td>\n",
       "      <td>2</td>\n",
       "      <td>9</td>\n",
       "      <td>1</td>\n",
       "      <td>9</td>\n",
       "      <td>5</td>\n",
       "      <td>9</td>\n",
       "      <td>16</td>\n",
       "      <td>5</td>\n",
       "    </tr>\n",
       "  </tbody>\n",
       "</table>\n",
       "</div>"
      ],
      "text/plain": [
       "   ARSH  BLACK  BLEW  BLUE  BROWN  CREAM  GREEN  GREEN,  ORANGE  PINK  RED  \\\n",
       "0     1      1     1    30      6      2      9       1       9     5    9   \n",
       "\n",
       "   WHITE  YELLOW  \n",
       "0     16       5  "
      ]
     },
     "execution_count": 8,
     "metadata": {},
     "output_type": "execute_result"
    }
   ],
   "source": [
    "df\n"
   ]
  },
  {
   "cell_type": "code",
   "execution_count": 9,
   "metadata": {},
   "outputs": [
    {
     "name": "stdout",
     "output_type": "stream",
     "text": [
      "7.0\n",
      "closest mean color is Red\n"
     ]
    }
   ],
   "source": [
    "mean_color_number = round(df.mean(axis = 1).values, 0)\n",
    "print mean_color_number\n",
    "print 'closest mean color is Red'"
   ]
  },
  {
   "cell_type": "code",
   "execution_count": 10,
   "metadata": {},
   "outputs": [
    {
     "name": "stdout",
     "output_type": "stream",
     "text": [
      "[30]\n",
      "color mostly worn is Blue\n"
     ]
    }
   ],
   "source": [
    "color_mostly_worn = df.max(axis = 1)\n",
    "print color_mostly_worn.values\n",
    "print 'color mostly worn is Blue'"
   ]
  },
  {
   "cell_type": "code",
   "execution_count": 11,
   "metadata": {},
   "outputs": [
    {
     "name": "stdout",
     "output_type": "stream",
     "text": [
      "[ 5.]\n",
      "median color is YELLOw or PINK\n"
     ]
    }
   ],
   "source": [
    "median_color = df.median(axis = 1)\n",
    "print median_color.values\n",
    "print \"median color is YELLOw or PINK\""
   ]
  },
  {
   "cell_type": "code",
   "execution_count": 12,
   "metadata": {},
   "outputs": [
    {
     "name": "stdout",
     "output_type": "stream",
     "text": [
      "variance is [ 66.56410256]\n"
     ]
    }
   ],
   "source": [
    "variance_of_color = df.var(axis = 1)\n",
    "print \"variance is \" + str(variance_of_color.values)\n"
   ]
  },
  {
   "cell_type": "code",
   "execution_count": 13,
   "metadata": {},
   "outputs": [
    {
     "name": "stdout",
     "output_type": "stream",
     "text": [
      "0    0.094737\n",
      "dtype: float64\n",
      "probability of picking a red color is [ 0.09473684]\n"
     ]
    }
   ],
   "source": [
    "sum_of_all_colors = df.sum(axis = 1)\n",
    "number_of_red = df['RED']\n",
    "prob_of_red = number_of_red/sum_of_all_colors\n",
    "print prob_of_red\n",
    "print 'probability of picking a red color is ' +str(prob_of_red.values)"
   ]
  },
  {
   "cell_type": "markdown",
   "metadata": {},
   "source": [
    "## database"
   ]
  },
  {
   "cell_type": "code",
   "execution_count": 14,
   "metadata": {},
   "outputs": [
    {
     "name": "stderr",
     "output_type": "stream",
     "text": [
      "/home/emeka/.local/lib/python2.7/site-packages/psycopg2/__init__.py:144: UserWarning: The psycopg2 wheel package will be renamed from release 2.8; in order to keep installing from binary please use \"pip install psycopg2-binary\" instead. For details see: <http://initd.org/psycopg/docs/install.html#binary-install-from-pypi>.\n",
      "  \"\"\")\n"
     ]
    }
   ],
   "source": [
    "# database configuration code returns a dictionary of database, user, password and host\n",
    "# which values will be used to connect to database\n",
    "\n",
    "import psycopg2\n",
    "import functools\n",
    "from six.moves.configparser import ConfigParser\n",
    "\n",
    "def config(filename='database.ini',section='postgresql'):\n",
    "    parser = ConfigParser()\n",
    "    parser.read(filename)\n",
    "\n",
    "    db = {}\n",
    "    if parser.has_section(section):\n",
    "        params = parser.items(section)\n",
    "        for param in params:\n",
    "            db[param[0]] = param[1] # adding to dictionary here\n",
    "    else:\n",
    "        raise Exception('Section {0} not found in the {1} file'. format(section, filename))\n",
    "    \n",
    "    return db"
   ]
  },
  {
   "cell_type": "code",
   "execution_count": 15,
   "metadata": {},
   "outputs": [
    {
     "name": "stdout",
     "output_type": "stream",
     "text": [
      "relation \"color_of_cloth\" already exists\n",
      "\n"
     ]
    }
   ],
   "source": [
    "# using a python decorator to wrap around the query function. \n",
    "# This function connects to the database **params - contains the dictionary of credentials needed to acess postgresql\n",
    "# query is executed and connection is closed\n",
    "#create table decorator query runner\n",
    "def create_table(query):\n",
    "    @functools.wraps(query)\n",
    "    def connect_run_close():\n",
    "        conn = None\n",
    "        try:\n",
    "            params = config()\n",
    "            conn = psycopg2.connect(**params)\n",
    "            cur = conn.cursor()\n",
    "            for sql in query():\n",
    "                cur.execute(sql)\n",
    "            conn.commit()\n",
    "            msg = cur.statusmessage\n",
    "            #print msg\n",
    "            cur.close()\n",
    "        except (Exception, psycopg2.DatabaseError) as error:\n",
    "            print error\n",
    "        finally:\n",
    "            if conn is not None:\n",
    "                conn.close()\n",
    "                #print('Database connection ended.')\n",
    "    return connect_run_close\n",
    "\n",
    "\n",
    "#table query\n",
    "# sql query function create table with columns\n",
    "@create_table #decorator definded above is called here\n",
    "def create_table():\n",
    "    query = [\"\"\"\n",
    "            CREATE TABLE color_of_cloth(\n",
    "            id SERIAL PRIMARY KEY,\n",
    "            colors VARCHAR(100) NOT NULL,\n",
    "            frequency VARCHAR(100) NOT NULL\n",
    "            )\n",
    "    \"\"\"]\n",
    "    return query\n",
    "\n",
    "\n",
    "if __name__ == '__main__':\n",
    "    create_table()\n"
   ]
  },
  {
   "cell_type": "code",
   "execution_count": 16,
   "metadata": {},
   "outputs": [],
   "source": [
    "#insert names into database  query runner\n",
    "def insert_names_deco(query):\n",
    "    @functools.wraps(query)\n",
    "    def connect_run_close():\n",
    "        conn = None\n",
    "        try:\n",
    "            params = config()\n",
    "            conn = psycopg2.connect(**params)\n",
    "            cur = conn.cursor()\n",
    "            cur.execute(query())\n",
    "            conn.commit()\n",
    "            cur.close()\n",
    "        except (Exception, psycopg2.DatabaseError) as error:\n",
    "            print error\n",
    "        finally:\n",
    "            if conn is not None:\n",
    "                conn.close()\n",
    "                \n",
    "        return None\n",
    "    return connect_run_close"
   ]
  },
  {
   "cell_type": "code",
   "execution_count": 17,
   "metadata": {},
   "outputs": [],
   "source": [
    "#loops through the names of colors passing the names as key and getting the value. both are stored in the database\n",
    "def add_rows_to_db():\n",
    "    for i in unique_list:\n",
    "        key = i\n",
    "        value = dictionary_of_colors_with_frequency[i]\n",
    "        @insert_names_deco\n",
    "        def insert_query():\n",
    "            query = \"\"\"INSERT INTO color_of_cloth(colors,frequency) \n",
    "            VALUES('%s','%s') RETURNING id;\"\"\" % (key,value)\n",
    "            return query\n",
    "        insert_query()\n",
    "\n",
    "add_rows_to_db()"
   ]
  },
  {
   "cell_type": "markdown",
   "metadata": {},
   "source": [
    "### Fibonacci sequence"
   ]
  },
  {
   "cell_type": "code",
   "execution_count": 19,
   "metadata": {},
   "outputs": [
    {
     "name": "stdout",
     "output_type": "stream",
     "text": [
      "20365011073\n",
      "[0, 1, 1, 2, 3, 5, 8, 13, 21, 34, 55, 89, 144, 233, 377, 610, 987, 1597, 2584, 4181, 6765, 10946, 17711, 28657, 46368, 75025, 121393, 196418, 317811, 514229, 832040, 1346269, 2178309, 3524578, 5702887, 9227465, 14930352, 24157817, 39088169, 63245986, 102334155, 165580141, 267914296, 433494437, 701408733, 1134903170, 1836311903, 2971215073, 4807526976, 7778742049]\n"
     ]
    }
   ],
   "source": [
    "# fibonacci sequence\n",
    "# keep adding the last two and appending the result\n",
    " # the appended result becomes the last - fibo[-1] and previous last\n",
    " # - fibo[-1] becomes second last ie fibo[-2]\n",
    "def get_fibo_sequence():\n",
    "    num = range(0,50)\n",
    "    fibo = []\n",
    "    new = 0\n",
    "    for i in num:\n",
    "        if not fibo:\n",
    "            fibo.append(0)\n",
    "        elif len(fibo) < 2:\n",
    "            fibo.append(1)\n",
    "        else:\n",
    "            fibo.append(fibo[-2] + fibo[-1]) \n",
    "    return fibo\n",
    "\n",
    "fibo_sequence = get_fibo_sequence()\n",
    "\n",
    "sum_of_fibo = sum(fibo_sequence)\n",
    "    \n",
    "print sum_of_fibo\n",
    "print fibo_sequence\n"
   ]
  },
  {
   "cell_type": "code",
   "execution_count": null,
   "metadata": {},
   "outputs": [],
   "source": []
  }
 ],
 "metadata": {
  "kernelspec": {
   "display_name": "Python 2",
   "language": "python",
   "name": "python2"
  },
  "language_info": {
   "codemirror_mode": {
    "name": "ipython",
    "version": 2
   },
   "file_extension": ".py",
   "mimetype": "text/x-python",
   "name": "python",
   "nbconvert_exporter": "python",
   "pygments_lexer": "ipython2",
   "version": "2.7.18"
  }
 },
 "nbformat": 4,
 "nbformat_minor": 2
}
